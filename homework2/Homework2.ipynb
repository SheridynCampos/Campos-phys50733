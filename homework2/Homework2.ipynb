{
 "cells": [
  {
   "cell_type": "markdown",
   "id": "6c693a0b-8009-4b4c-bec5-03a694642160",
   "metadata": {},
   "source": [
    "## Homework 2\n",
    "### Due: Thursday Feb. 13\n",
    "\n",
    "**Integer vs floating point number**\n",
    "\n",
    "Write a program to calculate and print the factorial of a\n",
    "number.  If you wish you can base your program on the\n",
    "user-defined function for factorial given in Section 2.6, but write your\n",
    "program so that it calculates the factorial using *integer*\n",
    "variables, not floating-point ones.  Use your program to calculate the\n",
    "factorial of 200.\n",
    "\n",
    "Now modify your program to use floating-point variables instead and again\n",
    "calculate the factorial of 200.  What do you find?  Explain.\n",
    "\n",
    "(20 points)"
   ]
  },
  {
   "cell_type": "code",
   "execution_count": 1,
   "id": "de7fed8f-325f-4eab-ab18-1e59d1d6b428",
   "metadata": {},
   "outputs": [
    {
     "name": "stdout",
     "output_type": "stream",
     "text": [
      "788657867364790503552363213932185062295135977687173263294742533244359449963403342920304284011984623904177212138919638830257642790242637105061926624952829931113462857270763317237396988943922445621451664240254033291864131227428294853277524242407573903240321257405579568660226031904170324062351700858796178922222789623703897374720000000000000000000000000000000000000000000000000\n",
      "------------------------------\n",
      "inf\n",
      "We get a runtime warning and it prints infinity, becuase the number calculated is to large for the data type\n",
      "of float, but is okay for integer\n"
     ]
    },
    {
     "name": "stderr",
     "output_type": "stream",
     "text": [
      "/var/folders/bk/mr7vzgq96tnflth2lc57l8h40000gn/T/ipykernel_22525/896436383.py:23: RuntimeWarning: overflow encountered in scalar multiply\n",
      "  f = f * i\n"
     ]
    }
   ],
   "source": [
    "import numpy as np\n",
    "import math as math\n",
    "\n",
    "def factorialInt(n):\n",
    "\n",
    "    f = 1\n",
    "    \n",
    "    for i in range(1 , n+1):\n",
    "        f = f * i\n",
    "        \n",
    "    return f\n",
    "\n",
    "factorialOf200Int = factorialInt(200)\n",
    "print(factorialOf200Int)\n",
    "print('------------------------------')    \n",
    "    \n",
    "    \n",
    "def factorialFloat(n):\n",
    "\n",
    "    f = 1.0\n",
    "    \n",
    "    for i in np.arange(1.0 , n+1.0):\n",
    "        f = f * i\n",
    "        \n",
    "    return f\n",
    "\n",
    "factorialOf200Float = factorialFloat(200)\n",
    "print(factorialOf200Float)\n",
    "\n",
    "\n",
    "print(\"We get a runtime warning and it prints infinity, becuase the number calculated is to large for the data type\") \n",
    "print(\"of float, but is okay for integer\")"
   ]
  },
  {
   "cell_type": "markdown",
   "id": "1e9a5155-daa8-4809-8e6a-e5d4ab7c270d",
   "metadata": {},
   "source": [
    "**A Simple Derivative**\n",
    "\n",
    "Suppose we have a function $f(x)$ and we want to\n",
    "calculate its derivative at a point $x$.  We can do that with pencil and\n",
    "paper if we know the mathematical form of the function, or we can do it on\n",
    "the computer by making use of the definition of the derivative:\n",
    "\n",
    "<p style=\"text-align:center;\">\n",
    "${d f\\over d x} = \\lim_{\\delta\\to0} {f(x+\\delta)-f(x)\\over\\delta}.$\n",
    "</p>\n",
    "\n",
    "On the computer we can't actually take the limit as $\\delta$ goes to\n",
    "zero, but we can get a reasonable approximation just by making $\\delta$\n",
    "small.\n",
    "- Write a program that defines a function *f(x)* returning the\n",
    "  value $x(x-1)$, then calculates the derivative of the function at the\n",
    "  point $x=1$ using the formula above with $\\delta=10^{-2}$.  Calculate\n",
    "  the true value of the same derivative analytically and compare with the\n",
    "  answer your program gives.  The two will not agree perfectly.  Why not?\n",
    "- Repeat the calculation for $\\delta=10^{-4}$, $10^{-6}$, $10^{-8}$,\n",
    "  $10^{-10}$, $10^{-12}$, and $10^{-14}$.  You should see that the accuracy\n",
    "  of the calculation initially gets better as $\\delta$ gets smaller, but\n",
    "  then gets worse again.  Why is this?\n",
    "\n",
    "(20 points)"
   ]
  },
  {
   "cell_type": "code",
   "execution_count": 2,
   "id": "84528686-9eb8-4446-81db-1a6dc4a26a30",
   "metadata": {
    "scrolled": true
   },
   "outputs": [
    {
     "name": "stdout",
     "output_type": "stream",
     "text": [
      "1.010000000000001\n",
      "1.0000999999998899\n",
      "1.0000009999177333\n",
      "1.0000000039225287\n",
      "1.000000082840371\n",
      "1.0000889005833413\n",
      "0.9992007221626509\n",
      "It gets better becuase the d is getting closer to zero which is making i† a better approximation\n",
      "It gets worse because once the number is small enough the perscion of the computer gets works so there is a sweet spot\n"
     ]
    }
   ],
   "source": [
    "def f(x):\n",
    "    return x*(x-1)\n",
    "\n",
    "def derivative(x , d): \n",
    "    return ( f(x + d) - f(x) ) / d\n",
    "\n",
    "trial1 = derivative(1, 1e-2)\n",
    "print(trial1)\n",
    "\n",
    "trial2 = derivative(1, 1e-4)\n",
    "print(trial2)\n",
    "\n",
    "trial3 = derivative(1, 1e-6)\n",
    "print(trial3)\n",
    "\n",
    "trial4 = derivative(1, 1e-8)\n",
    "print(trial4)\n",
    "\n",
    "trial5 = derivative(1, 1e-10)\n",
    "print(trial5)\n",
    "\n",
    "trial6 = derivative(1, 1e-12)\n",
    "print(trial6)\n",
    "\n",
    "\n",
    "trial7 = derivative(1, 1e-14)\n",
    "print(trial7)\n",
    "\n",
    "print(\"It gets better becuase the d is getting closer to zero which is making i† a better approximation\")\n",
    "print(\"It gets worse because once the number is small enough the perscion of the computer gets works so there is a sweet spot\")\n"
   ]
  },
  {
   "cell_type": "markdown",
   "id": "ebb2e1bb-74fa-4897-9d4d-8ba74bfe1ad2",
   "metadata": {},
   "source": [
    "### Simpson's Rule\n",
    "\n",
    "- Write a program to calculate an approximate value for the integral $\\int_{0}^{2} ( x^4 - 2x + 1)dx$ from Example 5.1 in the book, but using Simpson's rule with 10 slices instead of the trapezoid rule. You may be able to modify your code from the trapezoid rule to complete this task. Compare your result to the known correct value of 4.4. What is the fractional error on your calculation?\n",
    "\n",
    "- Copy your code and modify it to use one hundred slices, then one thousand. Note the improvement in the result and compare to the results from the trapezoid rule.\n",
    "\n",
    "(30 points)"
   ]
  },
  {
   "cell_type": "code",
   "execution_count": 3,
   "id": "d8370bf3-7d95-442e-8d4d-b3636a60e6e7",
   "metadata": {},
   "outputs": [
    {
     "ename": "SyntaxError",
     "evalue": "invalid syntax (3459410807.py, line 39)",
     "output_type": "error",
     "traceback": [
      "\u001b[0;36m  Cell \u001b[0;32mIn[3], line 39\u001b[0;36m\u001b[0m\n\u001b[0;31m    $\u001b[0m\n\u001b[0m    ^\u001b[0m\n\u001b[0;31mSyntaxError\u001b[0m\u001b[0;31m:\u001b[0m invalid syntax\n"
     ]
    }
   ],
   "source": [
    "a = 0\n",
    "b = 2\n",
    "exactValue = 4.4\n",
    "\n",
    "def g(x):\n",
    "    return  x**4 - 2*x + 1  \n",
    "\n",
    "\n",
    "def SimpsonsRules(a , b , N):\n",
    "    \n",
    "    h = (b - a) / N\n",
    "    \n",
    "    evenSum = 0\n",
    "    for k in range(1, N, 2):\n",
    "        evenSum += 4 * ( g(a + k * h) )\n",
    "    \n",
    "    oddSum = 0\n",
    "    for j in range(2 , N, 2):\n",
    "        oddSum += 2 * ( g(a + j * h) )\n",
    "\n",
    "    result = g(a) + g(b) + evenSum + oddSum\n",
    " \n",
    "    return   (h/3) * result  \n",
    "                                \n",
    "trial1simpsrule = SimpsonsRules(a , b, 10)\n",
    "print(trial1simpsrule)\n",
    "\n",
    "print(\"fractional error: \")\n",
    "fractionalError = ( abs(trial1simpsrule - exactValue)  / exactValue)\n",
    "print(fractionalError)\n",
    "print(\"--------------\")\n",
    "\n",
    "trial2simpsrule = SimpsonsRules(a , b, 100)\n",
    "print(trial2simpsrule)\n",
    "\n",
    "trial3simpsrule = SimpsonsRules(a , b, 1000)\n",
    "print(trial3simpsrule)\n",
    "\n"
   ]
  },
  {
   "cell_type": "markdown",
   "id": "4c080cd1-540e-4ab2-a0d6-3372d1899b4f",
   "metadata": {},
   "source": [
    "### An Integral With No Analytic Solution\n",
    "\n",
    "Consider the integral\n",
    "\n",
    "$$ E(x) = \\int_{0}^{x} \\exp{-t^2} dt$$\n",
    "\n",
    "- Write a program to calculate $E(x)$ for values of x from 0 to 3 in steps of 0.1. Choose for yourself what method you will use for performing the integral and a suitable number of slices.\n",
    "\n",
    "- When you are convinced your program is working, extend it further to make a graph of E(x) as a function of x.\n",
    "\n",
    "(30 points)"
   ]
  },
  {
   "cell_type": "code",
   "execution_count": null,
   "id": "27aaf5cb-8c02-4c8a-affe-d7d67c969b59",
   "metadata": {},
   "outputs": [],
   "source": [
    "steps = np.arange(0, 3.1 , 0.1)\n",
    "\n",
    "def y(x):\n",
    "    return np.exp(-x**2)\n",
    "\n",
    "def integrateTrap(a, b, N):\n",
    "    \n",
    "    h = (b - a) / N\n",
    "    x = np.linspace(a, b, N+1) \n",
    "\n",
    "    \n",
    "    answer = ( 1/2*y(a) + 1/2*y(b))\n",
    "    \n",
    "    for k in range (0, N):\n",
    "        answer += y(a + k*h)\n",
    "    \n",
    "    answer = h*answer\n",
    "\n",
    "    return answer\n",
    "\n",
    "Evalues = [integrateTrap( 0, x, 100) for x in steps]\n",
    "\n",
    "import matplotlib.pyplot as plt\n",
    "\n",
    "plt.plot(steps, Evalues)\n",
    "plt.xlabel(\"x\")\n",
    "plt.ylabel(\"E(x)\")\n",
    "plt.title(\"Numerical Approximation of the Integral\")\n",
    "plt.show()"
   ]
  },
  {
   "cell_type": "code",
   "execution_count": null,
   "id": "89fb5a4b",
   "metadata": {},
   "outputs": [],
   "source": []
  },
  {
   "cell_type": "code",
   "execution_count": null,
   "id": "b8033b70",
   "metadata": {},
   "outputs": [],
   "source": []
  }
 ],
 "metadata": {
  "kernelspec": {
   "display_name": "Python 3 (ipykernel)",
   "language": "python",
   "name": "python3"
  },
  "language_info": {
   "codemirror_mode": {
    "name": "ipython",
    "version": 3
   },
   "file_extension": ".py",
   "mimetype": "text/x-python",
   "name": "python",
   "nbconvert_exporter": "python",
   "pygments_lexer": "ipython3",
   "version": "3.11.5"
  }
 },
 "nbformat": 4,
 "nbformat_minor": 5
}
